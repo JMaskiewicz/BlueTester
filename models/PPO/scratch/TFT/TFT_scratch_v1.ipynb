{
 "cells": [
  {
   "cell_type": "code",
   "execution_count": 9,
   "id": "initial_id",
   "metadata": {
    "collapsed": true,
    "ExecuteTime": {
     "end_time": "2024-02-07T16:04:15.750801800Z",
     "start_time": "2024-02-07T16:04:15.731648900Z"
    }
   },
   "outputs": [
    {
     "ename": "ImportError",
     "evalue": "cannot import name 'load_data_long_format' from 'data.function.load_data' (C:\\Users\\jmask\\PycharmProjects\\RL_tester\\data\\function\\load_data.py)",
     "output_type": "error",
     "traceback": [
      "\u001B[1;31m---------------------------------------------------------------------------\u001B[0m",
      "\u001B[1;31mImportError\u001B[0m                               Traceback (most recent call last)",
      "Cell \u001B[1;32mIn[9], line 18\u001B[0m\n\u001B[0;32m     15\u001B[0m \u001B[38;5;28;01mimport\u001B[39;00m \u001B[38;5;21;01mtorch\u001B[39;00m\n\u001B[0;32m     16\u001B[0m \u001B[38;5;28;01mfrom\u001B[39;00m \u001B[38;5;21;01mtorch\u001B[39;00m\u001B[38;5;21;01m.\u001B[39;00m\u001B[38;5;21;01mutils\u001B[39;00m\u001B[38;5;21;01m.\u001B[39;00m\u001B[38;5;21;01mdata\u001B[39;00m \u001B[38;5;28;01mimport\u001B[39;00m DataLoader\n\u001B[1;32m---> 18\u001B[0m \u001B[38;5;28;01mfrom\u001B[39;00m \u001B[38;5;21;01mdata\u001B[39;00m\u001B[38;5;21;01m.\u001B[39;00m\u001B[38;5;21;01mfunction\u001B[39;00m\u001B[38;5;21;01m.\u001B[39;00m\u001B[38;5;21;01mload_data\u001B[39;00m \u001B[38;5;28;01mimport\u001B[39;00m load_data, load_data_long_format\n\u001B[0;32m     19\u001B[0m \u001B[38;5;28;01mfrom\u001B[39;00m \u001B[38;5;21;01mdata\u001B[39;00m\u001B[38;5;21;01m.\u001B[39;00m\u001B[38;5;21;01mfunction\u001B[39;00m\u001B[38;5;21;01m.\u001B[39;00m\u001B[38;5;21;01mrolling_window\u001B[39;00m \u001B[38;5;28;01mimport\u001B[39;00m rolling_window_datasets\n\u001B[0;32m     20\u001B[0m \u001B[38;5;28;01mfrom\u001B[39;00m \u001B[38;5;21;01mtechnical_analysys\u001B[39;00m\u001B[38;5;21;01m.\u001B[39;00m\u001B[38;5;21;01madd_indicators\u001B[39;00m \u001B[38;5;28;01mimport\u001B[39;00m add_indicators, add_returns, add_log_returns\n",
      "\u001B[1;31mImportError\u001B[0m: cannot import name 'load_data_long_format' from 'data.function.load_data' (C:\\Users\\jmask\\PycharmProjects\\RL_tester\\data\\function\\load_data.py)"
     ]
    }
   ],
   "source": [
    "import numpy as np\n",
    "import pandas as pd\n",
    "import time\n",
    "import torch\n",
    "import torch.nn as nn\n",
    "import torch.optim as optim\n",
    "from tqdm import tqdm\n",
    "import random\n",
    "import math\n",
    "import gym\n",
    "from gym import spaces\n",
    "from itertools import cycle\n",
    "import torch.nn.functional as F\n",
    "from pytorch_forecasting import TimeSeriesDataSet\n",
    "import torch\n",
    "from torch.utils.data import DataLoader\n",
    "\n",
    "from data.function.load_data import load_data, load_data_long_format\n",
    "from data.function.rolling_window import rolling_window_datasets\n",
    "from technical_analysys.add_indicators import add_indicators, add_returns, add_log_returns\n",
    "from data.edit import normalize_data, standardize_data"
   ]
  },
  {
   "cell_type": "code",
   "outputs": [],
   "source": [
    "# Set seeds for reproducibility\n",
    "torch.manual_seed(0)\n",
    "np.random.seed(0)\n",
    "random.seed(0)"
   ],
   "metadata": {
    "collapsed": false,
    "ExecuteTime": {
     "end_time": "2024-02-07T16:02:47.480445500Z",
     "start_time": "2024-02-07T16:02:47.468269Z"
    }
   },
   "id": "d52038e82218c5e1",
   "execution_count": 7
  },
  {
   "cell_type": "code",
   "outputs": [
    {
     "name": "stderr",
     "output_type": "stream",
     "text": [
      "100%|██████████| 3/3 [00:18<00:00,  6.10s/it]\n",
      "100%|██████████| 2/2 [00:00<00:00, 499.95it/s]\n"
     ]
    }
   ],
   "source": [
    "df = load_data_long_format(['EURUSD', 'USDJPY', 'EURJPY'], '1D')\n"
   ],
   "metadata": {
    "collapsed": false,
    "ExecuteTime": {
     "end_time": "2024-02-07T14:27:00.081344500Z",
     "start_time": "2024-02-07T14:26:41.762367600Z"
    }
   },
   "id": "322f4a75685f804f",
   "execution_count": 3
  },
  {
   "cell_type": "code",
   "outputs": [
    {
     "data": {
      "text/plain": "               Open     High      Low    Close     Open     High      Low  \\\nCurrency     EURUSD   EURUSD   EURUSD   EURUSD   USDJPY   USDJPY   USDJPY   \nDate                                                                        \n2003-01-02  1.04750  1.04880  1.03380  1.03840  118.970  120.300  118.790   \n2003-01-03  1.03830  1.04370  1.03420  1.04230  119.900  120.230  119.620   \n2003-01-05  1.04200  1.04510  1.04180  1.04480  119.900  119.900  119.180   \n2003-01-06  1.04470  1.04960  1.04250  1.04400  119.240  119.660  118.580   \n2003-01-07  1.04390  1.04530  1.03980  1.04210  119.550  120.630  119.370   \n...             ...      ...      ...      ...      ...      ...      ...   \n2022-12-26  1.06264  1.06604  1.06151  1.06454  132.527  133.190  132.477   \n2022-12-27  1.06454  1.06694  1.06113  1.06415  132.887  134.400  132.736   \n2022-12-28  1.06415  1.06742  1.06065  1.06250  133.972  134.498  133.397   \n2022-12-29  1.06249  1.06902  1.06109  1.06551  133.621  133.898  132.380   \n2022-12-30  1.06551  1.07131  1.06385  1.07054  132.661  132.690  130.776   \n\n              Close     Open     High      Low    Close Even_Odd_Month  \\\nCurrency     USDJPY   EURJPY   EURJPY   EURJPY   EURJPY         EURUSD   \nDate                                                                     \n2003-01-02  119.890  124.610  124.880  124.130  124.470              1   \n2003-01-03  119.710  124.480  125.010  124.270  124.750              1   \n2003-01-05  119.230  124.910  124.970  124.440  124.550              1   \n2003-01-06  119.540  124.540  124.960  124.290  124.760              1   \n2003-01-07  120.190  124.770  125.520  124.580  125.240              1   \n...             ...      ...      ...      ...      ...            ...   \n2022-12-26  132.888  140.847  141.710  140.776  141.468              0   \n2022-12-27  133.971  141.469  142.936  141.390  142.563              0   \n2022-12-28  133.623  142.563  142.860  141.884  141.981              0   \n2022-12-29  132.661  141.981  142.412  141.192  141.375              0   \n2022-12-30  131.106  141.376  141.407  139.991  140.382              0   \n\n           Even_Odd_Day Even_Odd_Year    RSI_14    ATR_24  \nCurrency         USDJPY        EURJPY    EURUSD    EURUSD  \nDate                                                       \n2003-01-02            0             1  0.000000  0.009300  \n2003-01-03            1             1  0.297710  0.009367  \n2003-01-05            1             1  0.410256  0.007850  \n2003-01-06            0             1  0.390244  0.007700  \n2003-01-07            1             1  0.349727  0.007333  \n...                 ...           ...       ...       ...  \n2022-12-26            0             0  0.662479  0.008475  \n2022-12-27            1             0  0.685377  0.008407  \n2022-12-28            0             0  0.627160  0.008032  \n2022-12-29            1             0  0.556277  0.007752  \n2022-12-30            0             0  0.595262  0.007576  \n\n[6244 rows x 17 columns]",
      "text/html": "<div>\n<style scoped>\n    .dataframe tbody tr th:only-of-type {\n        vertical-align: middle;\n    }\n\n    .dataframe tbody tr th {\n        vertical-align: top;\n    }\n\n    .dataframe thead tr th {\n        text-align: left;\n    }\n\n    .dataframe thead tr:last-of-type th {\n        text-align: right;\n    }\n</style>\n<table border=\"1\" class=\"dataframe\">\n  <thead>\n    <tr>\n      <th></th>\n      <th>Open</th>\n      <th>High</th>\n      <th>Low</th>\n      <th>Close</th>\n      <th>Open</th>\n      <th>High</th>\n      <th>Low</th>\n      <th>Close</th>\n      <th>Open</th>\n      <th>High</th>\n      <th>Low</th>\n      <th>Close</th>\n      <th>Even_Odd_Month</th>\n      <th>Even_Odd_Day</th>\n      <th>Even_Odd_Year</th>\n      <th>RSI_14</th>\n      <th>ATR_24</th>\n    </tr>\n    <tr>\n      <th>Currency</th>\n      <th>EURUSD</th>\n      <th>EURUSD</th>\n      <th>EURUSD</th>\n      <th>EURUSD</th>\n      <th>USDJPY</th>\n      <th>USDJPY</th>\n      <th>USDJPY</th>\n      <th>USDJPY</th>\n      <th>EURJPY</th>\n      <th>EURJPY</th>\n      <th>EURJPY</th>\n      <th>EURJPY</th>\n      <th>EURUSD</th>\n      <th>USDJPY</th>\n      <th>EURJPY</th>\n      <th>EURUSD</th>\n      <th>EURUSD</th>\n    </tr>\n    <tr>\n      <th>Date</th>\n      <th></th>\n      <th></th>\n      <th></th>\n      <th></th>\n      <th></th>\n      <th></th>\n      <th></th>\n      <th></th>\n      <th></th>\n      <th></th>\n      <th></th>\n      <th></th>\n      <th></th>\n      <th></th>\n      <th></th>\n      <th></th>\n      <th></th>\n    </tr>\n  </thead>\n  <tbody>\n    <tr>\n      <th>2003-01-02</th>\n      <td>1.04750</td>\n      <td>1.04880</td>\n      <td>1.03380</td>\n      <td>1.03840</td>\n      <td>118.970</td>\n      <td>120.300</td>\n      <td>118.790</td>\n      <td>119.890</td>\n      <td>124.610</td>\n      <td>124.880</td>\n      <td>124.130</td>\n      <td>124.470</td>\n      <td>1</td>\n      <td>0</td>\n      <td>1</td>\n      <td>0.000000</td>\n      <td>0.009300</td>\n    </tr>\n    <tr>\n      <th>2003-01-03</th>\n      <td>1.03830</td>\n      <td>1.04370</td>\n      <td>1.03420</td>\n      <td>1.04230</td>\n      <td>119.900</td>\n      <td>120.230</td>\n      <td>119.620</td>\n      <td>119.710</td>\n      <td>124.480</td>\n      <td>125.010</td>\n      <td>124.270</td>\n      <td>124.750</td>\n      <td>1</td>\n      <td>1</td>\n      <td>1</td>\n      <td>0.297710</td>\n      <td>0.009367</td>\n    </tr>\n    <tr>\n      <th>2003-01-05</th>\n      <td>1.04200</td>\n      <td>1.04510</td>\n      <td>1.04180</td>\n      <td>1.04480</td>\n      <td>119.900</td>\n      <td>119.900</td>\n      <td>119.180</td>\n      <td>119.230</td>\n      <td>124.910</td>\n      <td>124.970</td>\n      <td>124.440</td>\n      <td>124.550</td>\n      <td>1</td>\n      <td>1</td>\n      <td>1</td>\n      <td>0.410256</td>\n      <td>0.007850</td>\n    </tr>\n    <tr>\n      <th>2003-01-06</th>\n      <td>1.04470</td>\n      <td>1.04960</td>\n      <td>1.04250</td>\n      <td>1.04400</td>\n      <td>119.240</td>\n      <td>119.660</td>\n      <td>118.580</td>\n      <td>119.540</td>\n      <td>124.540</td>\n      <td>124.960</td>\n      <td>124.290</td>\n      <td>124.760</td>\n      <td>1</td>\n      <td>0</td>\n      <td>1</td>\n      <td>0.390244</td>\n      <td>0.007700</td>\n    </tr>\n    <tr>\n      <th>2003-01-07</th>\n      <td>1.04390</td>\n      <td>1.04530</td>\n      <td>1.03980</td>\n      <td>1.04210</td>\n      <td>119.550</td>\n      <td>120.630</td>\n      <td>119.370</td>\n      <td>120.190</td>\n      <td>124.770</td>\n      <td>125.520</td>\n      <td>124.580</td>\n      <td>125.240</td>\n      <td>1</td>\n      <td>1</td>\n      <td>1</td>\n      <td>0.349727</td>\n      <td>0.007333</td>\n    </tr>\n    <tr>\n      <th>...</th>\n      <td>...</td>\n      <td>...</td>\n      <td>...</td>\n      <td>...</td>\n      <td>...</td>\n      <td>...</td>\n      <td>...</td>\n      <td>...</td>\n      <td>...</td>\n      <td>...</td>\n      <td>...</td>\n      <td>...</td>\n      <td>...</td>\n      <td>...</td>\n      <td>...</td>\n      <td>...</td>\n      <td>...</td>\n    </tr>\n    <tr>\n      <th>2022-12-26</th>\n      <td>1.06264</td>\n      <td>1.06604</td>\n      <td>1.06151</td>\n      <td>1.06454</td>\n      <td>132.527</td>\n      <td>133.190</td>\n      <td>132.477</td>\n      <td>132.888</td>\n      <td>140.847</td>\n      <td>141.710</td>\n      <td>140.776</td>\n      <td>141.468</td>\n      <td>0</td>\n      <td>0</td>\n      <td>0</td>\n      <td>0.662479</td>\n      <td>0.008475</td>\n    </tr>\n    <tr>\n      <th>2022-12-27</th>\n      <td>1.06454</td>\n      <td>1.06694</td>\n      <td>1.06113</td>\n      <td>1.06415</td>\n      <td>132.887</td>\n      <td>134.400</td>\n      <td>132.736</td>\n      <td>133.971</td>\n      <td>141.469</td>\n      <td>142.936</td>\n      <td>141.390</td>\n      <td>142.563</td>\n      <td>0</td>\n      <td>1</td>\n      <td>0</td>\n      <td>0.685377</td>\n      <td>0.008407</td>\n    </tr>\n    <tr>\n      <th>2022-12-28</th>\n      <td>1.06415</td>\n      <td>1.06742</td>\n      <td>1.06065</td>\n      <td>1.06250</td>\n      <td>133.972</td>\n      <td>134.498</td>\n      <td>133.397</td>\n      <td>133.623</td>\n      <td>142.563</td>\n      <td>142.860</td>\n      <td>141.884</td>\n      <td>141.981</td>\n      <td>0</td>\n      <td>0</td>\n      <td>0</td>\n      <td>0.627160</td>\n      <td>0.008032</td>\n    </tr>\n    <tr>\n      <th>2022-12-29</th>\n      <td>1.06249</td>\n      <td>1.06902</td>\n      <td>1.06109</td>\n      <td>1.06551</td>\n      <td>133.621</td>\n      <td>133.898</td>\n      <td>132.380</td>\n      <td>132.661</td>\n      <td>141.981</td>\n      <td>142.412</td>\n      <td>141.192</td>\n      <td>141.375</td>\n      <td>0</td>\n      <td>1</td>\n      <td>0</td>\n      <td>0.556277</td>\n      <td>0.007752</td>\n    </tr>\n    <tr>\n      <th>2022-12-30</th>\n      <td>1.06551</td>\n      <td>1.07131</td>\n      <td>1.06385</td>\n      <td>1.07054</td>\n      <td>132.661</td>\n      <td>132.690</td>\n      <td>130.776</td>\n      <td>131.106</td>\n      <td>141.376</td>\n      <td>141.407</td>\n      <td>139.991</td>\n      <td>140.382</td>\n      <td>0</td>\n      <td>0</td>\n      <td>0</td>\n      <td>0.595262</td>\n      <td>0.007576</td>\n    </tr>\n  </tbody>\n</table>\n<p>6244 rows × 17 columns</p>\n</div>"
     },
     "execution_count": 4,
     "metadata": {},
     "output_type": "execute_result"
    }
   ],
   "source": [
    "df_train"
   ],
   "metadata": {
    "collapsed": false,
    "ExecuteTime": {
     "end_time": "2024-02-07T14:50:21.659536100Z",
     "start_time": "2024-02-07T14:50:21.626409800Z"
    }
   },
   "id": "17b438b8c6dd6bda",
   "execution_count": 4
  },
  {
   "cell_type": "code",
   "outputs": [
    {
     "ename": "KeyError",
     "evalue": "'time_idx'",
     "output_type": "error",
     "traceback": [
      "\u001B[1;31m---------------------------------------------------------------------------\u001B[0m",
      "\u001B[1;31mKeyError\u001B[0m                                  Traceback (most recent call last)",
      "File \u001B[1;32m~\\PycharmProjects\\RL_tester\\.venv\\lib\\site-packages\\pandas\\core\\indexes\\base.py:3791\u001B[0m, in \u001B[0;36mIndex.get_loc\u001B[1;34m(self, key)\u001B[0m\n\u001B[0;32m   3790\u001B[0m \u001B[38;5;28;01mtry\u001B[39;00m:\n\u001B[1;32m-> 3791\u001B[0m     \u001B[38;5;28;01mreturn\u001B[39;00m \u001B[38;5;28;43mself\u001B[39;49m\u001B[38;5;241;43m.\u001B[39;49m\u001B[43m_engine\u001B[49m\u001B[38;5;241;43m.\u001B[39;49m\u001B[43mget_loc\u001B[49m\u001B[43m(\u001B[49m\u001B[43mcasted_key\u001B[49m\u001B[43m)\u001B[49m\n\u001B[0;32m   3792\u001B[0m \u001B[38;5;28;01mexcept\u001B[39;00m \u001B[38;5;167;01mKeyError\u001B[39;00m \u001B[38;5;28;01mas\u001B[39;00m err:\n",
      "File \u001B[1;32mindex.pyx:152\u001B[0m, in \u001B[0;36mpandas._libs.index.IndexEngine.get_loc\u001B[1;34m()\u001B[0m\n",
      "File \u001B[1;32mindex.pyx:181\u001B[0m, in \u001B[0;36mpandas._libs.index.IndexEngine.get_loc\u001B[1;34m()\u001B[0m\n",
      "File \u001B[1;32mpandas\\_libs\\hashtable_class_helper.pxi:7080\u001B[0m, in \u001B[0;36mpandas._libs.hashtable.PyObjectHashTable.get_item\u001B[1;34m()\u001B[0m\n",
      "File \u001B[1;32mpandas\\_libs\\hashtable_class_helper.pxi:7088\u001B[0m, in \u001B[0;36mpandas._libs.hashtable.PyObjectHashTable.get_item\u001B[1;34m()\u001B[0m\n",
      "\u001B[1;31mKeyError\u001B[0m: 'time_idx'",
      "\nThe above exception was the direct cause of the following exception:\n",
      "\u001B[1;31mKeyError\u001B[0m                                  Traceback (most recent call last)",
      "Cell \u001B[1;32mIn[5], line 3\u001B[0m\n\u001B[0;32m      1\u001B[0m max_prediction_length \u001B[38;5;241m=\u001B[39m \u001B[38;5;241m1\u001B[39m  \u001B[38;5;66;03m# Predict one step at a time\u001B[39;00m\n\u001B[0;32m      2\u001B[0m max_encoder_length \u001B[38;5;241m=\u001B[39m \u001B[38;5;241m12\u001B[39m\n\u001B[1;32m----> 3\u001B[0m training_cutoff \u001B[38;5;241m=\u001B[39m \u001B[43mdf_train\u001B[49m\u001B[43m[\u001B[49m\u001B[38;5;124;43m\"\u001B[39;49m\u001B[38;5;124;43mtime_idx\u001B[39;49m\u001B[38;5;124;43m\"\u001B[39;49m\u001B[43m]\u001B[49m\u001B[38;5;241m.\u001B[39mmax() \u001B[38;5;241m-\u001B[39m max_prediction_length\n\u001B[0;32m      5\u001B[0m training \u001B[38;5;241m=\u001B[39m TimeSeriesDataSet(\n\u001B[0;32m      6\u001B[0m     df_train[\u001B[38;5;28;01mlambda\u001B[39;00m x: x\u001B[38;5;241m.\u001B[39mtime_idx \u001B[38;5;241m<\u001B[39m\u001B[38;5;241m=\u001B[39m training_cutoff],\n\u001B[0;32m      7\u001B[0m     time_idx\u001B[38;5;241m=\u001B[39m\u001B[38;5;124m\"\u001B[39m\u001B[38;5;124mtime_idx\u001B[39m\u001B[38;5;124m\"\u001B[39m,\n\u001B[1;32m   (...)\u001B[0m\n\u001B[0;32m     15\u001B[0m     time_varying_unknown_reals\u001B[38;5;241m=\u001B[39m[\u001B[38;5;124m\"\u001B[39m\u001B[38;5;124mtarget\u001B[39m\u001B[38;5;124m\"\u001B[39m],\n\u001B[0;32m     16\u001B[0m )\n",
      "File \u001B[1;32m~\\PycharmProjects\\RL_tester\\.venv\\lib\\site-packages\\pandas\\core\\frame.py:3892\u001B[0m, in \u001B[0;36mDataFrame.__getitem__\u001B[1;34m(self, key)\u001B[0m\n\u001B[0;32m   3890\u001B[0m \u001B[38;5;28;01mif\u001B[39;00m is_single_key:\n\u001B[0;32m   3891\u001B[0m     \u001B[38;5;28;01mif\u001B[39;00m \u001B[38;5;28mself\u001B[39m\u001B[38;5;241m.\u001B[39mcolumns\u001B[38;5;241m.\u001B[39mnlevels \u001B[38;5;241m>\u001B[39m \u001B[38;5;241m1\u001B[39m:\n\u001B[1;32m-> 3892\u001B[0m         \u001B[38;5;28;01mreturn\u001B[39;00m \u001B[38;5;28;43mself\u001B[39;49m\u001B[38;5;241;43m.\u001B[39;49m\u001B[43m_getitem_multilevel\u001B[49m\u001B[43m(\u001B[49m\u001B[43mkey\u001B[49m\u001B[43m)\u001B[49m\n\u001B[0;32m   3893\u001B[0m     indexer \u001B[38;5;241m=\u001B[39m \u001B[38;5;28mself\u001B[39m\u001B[38;5;241m.\u001B[39mcolumns\u001B[38;5;241m.\u001B[39mget_loc(key)\n\u001B[0;32m   3894\u001B[0m     \u001B[38;5;28;01mif\u001B[39;00m is_integer(indexer):\n",
      "File \u001B[1;32m~\\PycharmProjects\\RL_tester\\.venv\\lib\\site-packages\\pandas\\core\\frame.py:3950\u001B[0m, in \u001B[0;36mDataFrame._getitem_multilevel\u001B[1;34m(self, key)\u001B[0m\n\u001B[0;32m   3948\u001B[0m \u001B[38;5;28;01mdef\u001B[39;00m \u001B[38;5;21m_getitem_multilevel\u001B[39m(\u001B[38;5;28mself\u001B[39m, key):\n\u001B[0;32m   3949\u001B[0m     \u001B[38;5;66;03m# self.columns is a MultiIndex\u001B[39;00m\n\u001B[1;32m-> 3950\u001B[0m     loc \u001B[38;5;241m=\u001B[39m \u001B[38;5;28;43mself\u001B[39;49m\u001B[38;5;241;43m.\u001B[39;49m\u001B[43mcolumns\u001B[49m\u001B[38;5;241;43m.\u001B[39;49m\u001B[43mget_loc\u001B[49m\u001B[43m(\u001B[49m\u001B[43mkey\u001B[49m\u001B[43m)\u001B[49m\n\u001B[0;32m   3951\u001B[0m     \u001B[38;5;28;01mif\u001B[39;00m \u001B[38;5;28misinstance\u001B[39m(loc, (\u001B[38;5;28mslice\u001B[39m, np\u001B[38;5;241m.\u001B[39mndarray)):\n\u001B[0;32m   3952\u001B[0m         new_columns \u001B[38;5;241m=\u001B[39m \u001B[38;5;28mself\u001B[39m\u001B[38;5;241m.\u001B[39mcolumns[loc]\n",
      "File \u001B[1;32m~\\PycharmProjects\\RL_tester\\.venv\\lib\\site-packages\\pandas\\core\\indexes\\multi.py:2925\u001B[0m, in \u001B[0;36mMultiIndex.get_loc\u001B[1;34m(self, key)\u001B[0m\n\u001B[0;32m   2922\u001B[0m     \u001B[38;5;28;01mreturn\u001B[39;00m mask\n\u001B[0;32m   2924\u001B[0m \u001B[38;5;28;01mif\u001B[39;00m \u001B[38;5;129;01mnot\u001B[39;00m \u001B[38;5;28misinstance\u001B[39m(key, \u001B[38;5;28mtuple\u001B[39m):\n\u001B[1;32m-> 2925\u001B[0m     loc \u001B[38;5;241m=\u001B[39m \u001B[38;5;28;43mself\u001B[39;49m\u001B[38;5;241;43m.\u001B[39;49m\u001B[43m_get_level_indexer\u001B[49m\u001B[43m(\u001B[49m\u001B[43mkey\u001B[49m\u001B[43m,\u001B[49m\u001B[43m \u001B[49m\u001B[43mlevel\u001B[49m\u001B[38;5;241;43m=\u001B[39;49m\u001B[38;5;241;43m0\u001B[39;49m\u001B[43m)\u001B[49m\n\u001B[0;32m   2926\u001B[0m     \u001B[38;5;28;01mreturn\u001B[39;00m _maybe_to_slice(loc)\n\u001B[0;32m   2928\u001B[0m keylen \u001B[38;5;241m=\u001B[39m \u001B[38;5;28mlen\u001B[39m(key)\n",
      "File \u001B[1;32m~\\PycharmProjects\\RL_tester\\.venv\\lib\\site-packages\\pandas\\core\\indexes\\multi.py:3276\u001B[0m, in \u001B[0;36mMultiIndex._get_level_indexer\u001B[1;34m(self, key, level, indexer)\u001B[0m\n\u001B[0;32m   3273\u001B[0m         \u001B[38;5;28;01mreturn\u001B[39;00m \u001B[38;5;28mslice\u001B[39m(i, j, step)\n\u001B[0;32m   3275\u001B[0m \u001B[38;5;28;01melse\u001B[39;00m:\n\u001B[1;32m-> 3276\u001B[0m     idx \u001B[38;5;241m=\u001B[39m \u001B[38;5;28;43mself\u001B[39;49m\u001B[38;5;241;43m.\u001B[39;49m\u001B[43m_get_loc_single_level_index\u001B[49m\u001B[43m(\u001B[49m\u001B[43mlevel_index\u001B[49m\u001B[43m,\u001B[49m\u001B[43m \u001B[49m\u001B[43mkey\u001B[49m\u001B[43m)\u001B[49m\n\u001B[0;32m   3278\u001B[0m     \u001B[38;5;28;01mif\u001B[39;00m level \u001B[38;5;241m>\u001B[39m \u001B[38;5;241m0\u001B[39m \u001B[38;5;129;01mor\u001B[39;00m \u001B[38;5;28mself\u001B[39m\u001B[38;5;241m.\u001B[39m_lexsort_depth \u001B[38;5;241m==\u001B[39m \u001B[38;5;241m0\u001B[39m:\n\u001B[0;32m   3279\u001B[0m         \u001B[38;5;66;03m# Desired level is not sorted\u001B[39;00m\n\u001B[0;32m   3280\u001B[0m         \u001B[38;5;28;01mif\u001B[39;00m \u001B[38;5;28misinstance\u001B[39m(idx, \u001B[38;5;28mslice\u001B[39m):\n\u001B[0;32m   3281\u001B[0m             \u001B[38;5;66;03m# test_get_loc_partial_timestamp_multiindex\u001B[39;00m\n",
      "File \u001B[1;32m~\\PycharmProjects\\RL_tester\\.venv\\lib\\site-packages\\pandas\\core\\indexes\\multi.py:2865\u001B[0m, in \u001B[0;36mMultiIndex._get_loc_single_level_index\u001B[1;34m(self, level_index, key)\u001B[0m\n\u001B[0;32m   2863\u001B[0m     \u001B[38;5;28;01mreturn\u001B[39;00m \u001B[38;5;241m-\u001B[39m\u001B[38;5;241m1\u001B[39m\n\u001B[0;32m   2864\u001B[0m \u001B[38;5;28;01melse\u001B[39;00m:\n\u001B[1;32m-> 2865\u001B[0m     \u001B[38;5;28;01mreturn\u001B[39;00m \u001B[43mlevel_index\u001B[49m\u001B[38;5;241;43m.\u001B[39;49m\u001B[43mget_loc\u001B[49m\u001B[43m(\u001B[49m\u001B[43mkey\u001B[49m\u001B[43m)\u001B[49m\n",
      "File \u001B[1;32m~\\PycharmProjects\\RL_tester\\.venv\\lib\\site-packages\\pandas\\core\\indexes\\base.py:3798\u001B[0m, in \u001B[0;36mIndex.get_loc\u001B[1;34m(self, key)\u001B[0m\n\u001B[0;32m   3793\u001B[0m     \u001B[38;5;28;01mif\u001B[39;00m \u001B[38;5;28misinstance\u001B[39m(casted_key, \u001B[38;5;28mslice\u001B[39m) \u001B[38;5;129;01mor\u001B[39;00m (\n\u001B[0;32m   3794\u001B[0m         \u001B[38;5;28misinstance\u001B[39m(casted_key, abc\u001B[38;5;241m.\u001B[39mIterable)\n\u001B[0;32m   3795\u001B[0m         \u001B[38;5;129;01mand\u001B[39;00m \u001B[38;5;28many\u001B[39m(\u001B[38;5;28misinstance\u001B[39m(x, \u001B[38;5;28mslice\u001B[39m) \u001B[38;5;28;01mfor\u001B[39;00m x \u001B[38;5;129;01min\u001B[39;00m casted_key)\n\u001B[0;32m   3796\u001B[0m     ):\n\u001B[0;32m   3797\u001B[0m         \u001B[38;5;28;01mraise\u001B[39;00m InvalidIndexError(key)\n\u001B[1;32m-> 3798\u001B[0m     \u001B[38;5;28;01mraise\u001B[39;00m \u001B[38;5;167;01mKeyError\u001B[39;00m(key) \u001B[38;5;28;01mfrom\u001B[39;00m \u001B[38;5;21;01merr\u001B[39;00m\n\u001B[0;32m   3799\u001B[0m \u001B[38;5;28;01mexcept\u001B[39;00m \u001B[38;5;167;01mTypeError\u001B[39;00m:\n\u001B[0;32m   3800\u001B[0m     \u001B[38;5;66;03m# If we have a listlike key, _check_indexing_error will raise\u001B[39;00m\n\u001B[0;32m   3801\u001B[0m     \u001B[38;5;66;03m#  InvalidIndexError. Otherwise we fall through and re-raise\u001B[39;00m\n\u001B[0;32m   3802\u001B[0m     \u001B[38;5;66;03m#  the TypeError.\u001B[39;00m\n\u001B[0;32m   3803\u001B[0m     \u001B[38;5;28mself\u001B[39m\u001B[38;5;241m.\u001B[39m_check_indexing_error(key)\n",
      "\u001B[1;31mKeyError\u001B[0m: 'time_idx'"
     ]
    }
   ],
   "source": [
    "max_prediction_length = 1  # Predict one step at a time\n",
    "max_encoder_length = 12\n",
    "training_cutoff = df_train[\"time_idx\"].max() - max_prediction_length\n",
    "\n",
    "training = TimeSeriesDataSet(\n",
    "    df_train[lambda x: x.time_idx <= training_cutoff],\n",
    "    time_idx=\"time_idx\",\n",
    "    target=\"target\",  # Target column to predict\n",
    "    group_ids=[\"group_id\"],\n",
    "    max_encoder_length=max_encoder_length,\n",
    "    max_prediction_length=max_prediction_length,\n",
    "    static_categoricals=[],\n",
    "    static_reals=[],\n",
    "    time_varying_known_reals=[\"time_idx\"],\n",
    "    time_varying_unknown_reals=[\"target\"],\n",
    ")"
   ],
   "metadata": {
    "collapsed": false,
    "ExecuteTime": {
     "end_time": "2024-02-07T14:56:28.145284500Z",
     "start_time": "2024-02-07T14:56:27.162905100Z"
    }
   },
   "id": "bedf8a564def9cb2",
   "execution_count": 5
  },
  {
   "cell_type": "code",
   "outputs": [],
   "source": [],
   "metadata": {
    "collapsed": false
   },
   "id": "337a60e1bf7ffcb3"
  }
 ],
 "metadata": {
  "kernelspec": {
   "display_name": "Python 3",
   "language": "python",
   "name": "python3"
  },
  "language_info": {
   "codemirror_mode": {
    "name": "ipython",
    "version": 2
   },
   "file_extension": ".py",
   "mimetype": "text/x-python",
   "name": "python",
   "nbconvert_exporter": "python",
   "pygments_lexer": "ipython2",
   "version": "2.7.6"
  }
 },
 "nbformat": 4,
 "nbformat_minor": 5
}
